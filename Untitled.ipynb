{
 "cells": [
  {
   "cell_type": "code",
   "execution_count": 3,
   "metadata": {
    "collapsed": false
   },
   "outputs": [],
   "source": [
    "import os, glob\n",
    "import cv2"
   ]
  },
  {
   "cell_type": "code",
   "execution_count": 52,
   "metadata": {
    "collapsed": false
   },
   "outputs": [
    {
     "name": "stdout",
     "output_type": "stream",
     "text": [
      "\t[\n",
      "\t\t'images/acervo/santaceia/IMG_1160_thumb.jpg','images/acervo/santaceia/IMG_1160_big.jpg','',\n",
      "\t\t'images/acervo/santaceia/IMG_1468_thumb.jpg','images/acervo/santaceia/IMG_1468_big.jpg','',\n",
      "\t\t'images/acervo/santaceia/IMG_3378_thumb.jpg','images/acervo/santaceia/IMG_3378_big.jpg','',\n",
      "\t\t'images/acervo/santaceia/DSC05777_thumb.jpg','images/acervo/santaceia/DSC05777_big.jpg','',\n",
      "\t\t'images/acervo/santaceia/IMG_1927_thumb.jpg','images/acervo/santaceia/IMG_1927_big.jpg','',\n",
      "\t\t'images/acervo/santaceia/IMG_1179_thumb.jpg','images/acervo/santaceia/IMG_1179_big.jpg','',\n",
      "\t],\n"
     ]
    }
   ],
   "source": [
    "ulpath = \"images/acervo/santaceia\"\n",
    "\n",
    "maxWidthThumb = 650\n",
    "minHeightThumb = 418\n",
    "aspectThumb = float(maxWidthThumb)/minHeightThumb\n",
    "\n",
    "maxWidthBig= 1920\n",
    "minHeightBig = 1080\n",
    "aspectBig = float(maxWidthBig)/minHeightBig\n",
    "\n",
    "print(\"\\t[\")\n",
    "\n",
    "for fileName in glob.glob( os.path.join(ulpath, \"*.jpg\") ):\n",
    "    img = cv2.imread(fileName)\n",
    "    height, width, channels = img.shape\n",
    "    aspect = float(width)/height\n",
    "    \n",
    "    if aspect<=aspectThumb:\n",
    "        newThumb=(int(minHeightThumb*aspect),int(minHeightThumb))\n",
    "    else:\n",
    "        newThumb=(int(maxWidthThumb),int(maxWidthThumb/aspect))\n",
    "        \n",
    "    if aspect<=aspectBig:\n",
    "        newBig=(int(minHeightBig*aspect),int(minHeightBig))\n",
    "    else:\n",
    "        newBig=(int(maxWidthBig),int(maxWidthBig/aspect))\n",
    "    \n",
    "    resThumb = cv2.resize(img,newThumb, interpolation = cv2.INTER_CUBIC)\n",
    "    resFull = cv2.resize(img,newBig, interpolation = cv2.INTER_CUBIC)\n",
    "    \n",
    "    cv2.imwrite(fileName[:-4]+\"_thumb.jpg\",resThumb)\n",
    "    cv2.imwrite(fileName[:-4]+\"_big.jpg\",resFull)\n",
    "    \n",
    "    print(\"\\t\\t'\"+fileName[:-4]+\"_thumb.jpg\"+\"','\"+fileName[:-4]+\"_big.jpg\"+\"','',\")\n",
    "    \n",
    "print(\"\\t],\")"
   ]
  },
  {
   "cell_type": "code",
   "execution_count": null,
   "metadata": {
    "collapsed": false
   },
   "outputs": [],
   "source": []
  },
  {
   "cell_type": "code",
   "execution_count": null,
   "metadata": {
    "collapsed": false
   },
   "outputs": [],
   "source": []
  },
  {
   "cell_type": "code",
   "execution_count": null,
   "metadata": {
    "collapsed": false
   },
   "outputs": [],
   "source": []
  },
  {
   "cell_type": "code",
   "execution_count": null,
   "metadata": {
    "collapsed": true
   },
   "outputs": [],
   "source": []
  }
 ],
 "metadata": {
  "kernelspec": {
   "display_name": "Python 3",
   "language": "python",
   "name": "python3"
  },
  "language_info": {
   "codemirror_mode": {
    "name": "ipython",
    "version": 3
   },
   "file_extension": ".py",
   "mimetype": "text/x-python",
   "name": "python",
   "nbconvert_exporter": "python",
   "pygments_lexer": "ipython3",
   "version": "3.6.0"
  }
 },
 "nbformat": 4,
 "nbformat_minor": 2
}
